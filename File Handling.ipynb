{
 "cells": [
  {
   "cell_type": "code",
   "execution_count": 14,
   "id": "9ecf7c06",
   "metadata": {},
   "outputs": [],
   "source": [
    "with open('test.txt','w') as f:\n",
    "    f.writelines(['Hello my name is bhuvan parmar \\n','Hellow how you doing sir'])\n"
   ]
  },
  {
   "cell_type": "code",
   "execution_count": 3,
   "id": "e06829a4",
   "metadata": {},
   "outputs": [
    {
     "name": "stdout",
     "output_type": "stream",
     "text": [
      "Hello my name is bhuvan parmar \n",
      "Hellow how you doing sir\n"
     ]
    }
   ],
   "source": [
    "f=open('test.txt')\n",
    "print(f.read())"
   ]
  },
  {
   "cell_type": "code",
   "execution_count": 4,
   "id": "956aca08",
   "metadata": {},
   "outputs": [],
   "source": [
    "with open('essay.txt','w') as essay:\n",
    "    essay.write(\"\"\"An essay is, generally, a piece of writing that gives the author's own argument, but the definition is vague, overlapping with those of a letter, a paper, an article, a pamphlet, and a short story. Essays have traditionally been sub-classified as formal and informal. Formal essays are characterized by \"serious purpose, dignity, logical organization, length,\" whereas the informal essay is characterized by \"the personal element (self-revelation, individual tastes and experiences, confidential manner), humor, graceful style, rambling structure, unconventionality or novelty of theme,\" etc.[1]\n",
    "\n",
    "Essays are commonly used as literary criticism, political manifestos, learned arguments, observations of daily life, recollections, and reflections of the author. Almost all modern essays are written in prose, but works in verse have been dubbed essays (e.g., Alexander Pope's An Essay on Criticism and An Essay on Man). While brevity usually defines an essay, voluminous works like John Locke's An Essay Concerning Human Understanding and Thomas Malthus's An Essay on the Principle of Population are counterexamples\"\"\")\n",
    "    "
   ]
  },
  {
   "cell_type": "code",
   "execution_count": 12,
   "id": "ad0c72d6",
   "metadata": {},
   "outputs": [
    {
     "name": "stdout",
     "output_type": "stream",
     "text": [
      "An essay is, generally, a piece of writing that gives the author's own argument, but the definition is vague, overlapping with those of a letter, a paper, an article, a pamphlet, and a short story. Essays have traditionally been sub-classified as formal and informal. Formal essays are characterized by \"serious purpose, dignity, logical organization, length,\" whereas the informal essay is characterized by \"the personal element (self-revelation, individual tastes and experiences, confidential mann\n",
      "500\n",
      "An essay is, generally, a piece of writing that gives the author's own argument, but the definition is vague, overlapping with those of a letter, a paper, an article, a pamphlet, and a short story. Essays have traditionally been sub-classified as formal and informal. Formal essays are characterized by \"serious purpose, dignity, logical organization, length,\" whereas the informal essay is characterized by \"the personal element (self-revelation, individual tastes and experiences, confidential mann\n"
     ]
    }
   ],
   "source": [
    "read=open('essay.txt')\n",
    "print(read.read(500))\n",
    "print(read.tell())\n",
    "read.seek(0)\n",
    "print(read.read(500))\n"
   ]
  },
  {
   "cell_type": "code",
   "execution_count": 18,
   "id": "033becc6",
   "metadata": {},
   "outputs": [
    {
     "name": "stdout",
     "output_type": "stream",
     "text": [
      "C:\\Users\\bhuva\\Desktop\\jupyter notebook\n"
     ]
    },
    {
     "data": {
      "text/plain": [
       "['.ipynb_checkpoints',\n",
       " '2D List.ipynb',\n",
       " 'contest1.ipynb',\n",
       " 'Dictionary-Advanced.ipynb',\n",
       " 'Dictionary-More.ipynb',\n",
       " 'Dictionary.ipynb',\n",
       " 'essay.txt',\n",
       " 'Excecption Handling and File Processing.ipynb',\n",
       " 'File and GUI.ipynb',\n",
       " 'File Handling.ipynb',\n",
       " 'list and array.ipynb',\n",
       " 'norter',\n",
       " 'Random-time.ipynb',\n",
       " 'Set-Tuple(1).ipynb',\n",
       " 'sorted.ipynb',\n",
       " 'sTring.ipynb',\n",
       " 'Strings-More.ipynb',\n",
       " 'test.txt',\n",
       " 'Untitled.ipynb']"
      ]
     },
     "execution_count": 18,
     "metadata": {},
     "output_type": "execute_result"
    }
   ],
   "source": [
    "import os\n",
    "print(os.getcwd())\n",
    "os.listdir()"
   ]
  }
 ],
 "metadata": {
  "kernelspec": {
   "display_name": "Python 3 (ipykernel)",
   "language": "python",
   "name": "python3"
  },
  "language_info": {
   "codemirror_mode": {
    "name": "ipython",
    "version": 3
   },
   "file_extension": ".py",
   "mimetype": "text/x-python",
   "name": "python",
   "nbconvert_exporter": "python",
   "pygments_lexer": "ipython3",
   "version": "3.10.0"
  }
 },
 "nbformat": 4,
 "nbformat_minor": 5
}
