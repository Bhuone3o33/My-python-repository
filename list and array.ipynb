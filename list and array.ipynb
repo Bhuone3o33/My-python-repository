{
 "cells": [
  {
   "cell_type": "code",
   "execution_count": 8,
   "id": "2ab64db1",
   "metadata": {
    "scrolled": false
   },
   "outputs": [
    {
     "name": "stdout",
     "output_type": "stream",
     "text": [
      "Enter How many times you input : 1\n",
      "Enter Array size : 12\n",
      "Enter Array : 12\n",
      "Array is out of range :(\n"
     ]
    }
   ],
   "source": [
    "t=int(input('Enter How many times you input : '))\n",
    "for i in range(t):\n",
    "    N=int(input('Enter Array size : '))\n",
    "    lst=[int(x) for x in input('Enter Array : ').split()]\n",
    "    if len(lst)==N:\n",
    "        if N%2==0:\n",
    "            for i in range(0,N,2):\n",
    "                lst[i],lst[i+1]=lst[i+1],lst[i]\n",
    "            for x in lst:\n",
    "                print(x,end=' ')\n",
    "            print()\n",
    "        else:\n",
    "            for i in range(0,N-1,2):\n",
    "                lst[i],lst[i+1]=lst[i+1],lst[i]\n",
    "            for x in lst:\n",
    "                print(x,end=' ')\n",
    "            print()\n",
    "    else:\n",
    "        print('Array is out of range :(')"
   ]
  },
  {
   "cell_type": "code",
   "execution_count": 13,
   "id": "9e4aa06e",
   "metadata": {},
   "outputs": [
    {
     "name": "stdout",
     "output_type": "stream",
     "text": [
      "2\n",
      "6\n",
      "2 6 8 5 4 3\n",
      "4\n",
      "2 3 4 7\n",
      "2 \n",
      "10 10\n",
      "1 \n",
      "10\n",
      "10 10 \n"
     ]
    }
   ],
   "source": [
    "n=int(input())\n",
    "for i in range(n):\n",
    "    N=int(input())\n",
    "    li=[int(x) for x in input().split()]\n",
    "    lenli=len(li)\n",
    "    B=int(input())\n",
    "    li2=[int(x) for x in input().split()]\n",
    "    lenli2=len(li2)\n",
    "    li3=[]\n",
    "    for i in range(lenli):\n",
    "            if li[i] in li2 :\n",
    "                li3.append(li[i])\n",
    "for i in li3:\n",
    "    print(i,end=' ')\n",
    "print()"
   ]
  },
  {
   "cell_type": "code",
   "execution_count": null,
   "id": "badee66b",
   "metadata": {},
   "outputs": [],
   "source": [
    "#unique element\n",
    "N = int(input())\n",
    "k=0\n",
    "while k<N:\n",
    "    n = int(input())\n",
    "    li = [int(x) for x in input().split()]\n",
    "    new_li = li.copy()\n",
    "    for i in range(n):\n",
    "        new_li[i] = -1\n",
    "        if li[i] not in new_li:\n",
    "            print(li[i])\n",
    "            break\n",
    "        new_li=li.copy()\n",
    "    k+=1"
   ]
  }
 ],
 "metadata": {
  "kernelspec": {
   "display_name": "Python 3 (ipykernel)",
   "language": "python",
   "name": "python3"
  },
  "language_info": {
   "codemirror_mode": {
    "name": "ipython",
    "version": 3
   },
   "file_extension": ".py",
   "mimetype": "text/x-python",
   "name": "python",
   "nbconvert_exporter": "python",
   "pygments_lexer": "ipython3",
   "version": "3.10.0"
  }
 },
 "nbformat": 4,
 "nbformat_minor": 5
}
