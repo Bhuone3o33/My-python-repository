{
 "cells": [
  {
   "cell_type": "code",
   "execution_count": 1,
   "id": "7e52cbf3",
   "metadata": {},
   "outputs": [
    {
     "name": "stdout",
     "output_type": "stream",
     "text": [
      "20\n"
     ]
    }
   ],
   "source": [
    "A=10\n",
    "B=20\n",
    "print(A and B)"
   ]
  },
  {
   "cell_type": "code",
   "execution_count": 2,
   "id": "3bbea880",
   "metadata": {},
   "outputs": [
    {
     "name": "stdout",
     "output_type": "stream",
     "text": [
      "rtc\n"
     ]
    }
   ],
   "source": [
    "str1 =\"Hello chitkara\"\n",
    "print(str1[-2:-9:-3])"
   ]
  },
  {
   "cell_type": "code",
   "execution_count": 4,
   "id": "471108f8",
   "metadata": {},
   "outputs": [
    {
     "name": "stdout",
     "output_type": "stream",
     "text": [
      "['name', 'id', 'class']\n",
      "['R', 'a', 'j', 'e', 's', 'h']\n"
     ]
    }
   ],
   "source": [
    "Dic={'name':'Rajesh',\"id\":101,'class':'B.Tech'}\n",
    "print(list(Dic.keys()))\n",
    "print(list(Dic['name']))"
   ]
  },
  {
   "cell_type": "code",
   "execution_count": 5,
   "id": "0dd4ed4a",
   "metadata": {},
   "outputs": [
    {
     "name": "stdout",
     "output_type": "stream",
     "text": [
      "31 27 "
     ]
    }
   ],
   "source": [
    "I=30\n",
    "for I in range(I+1,25,-4):\n",
    "    print(I,end=\" \")"
   ]
  },
  {
   "cell_type": "code",
   "execution_count": 6,
   "id": "178dffae",
   "metadata": {},
   "outputs": [
    {
     "name": "stdout",
     "output_type": "stream",
     "text": [
      "[['orangeyellow', 'mangoyellow'], ['orangegreen', 'mangogreen']]\n"
     ]
    }
   ],
   "source": [
    "l=[\"orange\",\"mango\"]\n",
    "l1=[\"yellow\",\"green\"]\n",
    "l2=[[x+y for x in l] for y in l1]\n",
    "print(l2)"
   ]
  },
  {
   "cell_type": "code",
   "execution_count": 7,
   "id": "a6882357",
   "metadata": {},
   "outputs": [
    {
     "name": "stdout",
     "output_type": "stream",
     "text": [
      "rakesh\n",
      "[101, 484, 104]\n",
      "B.Tech\n"
     ]
    }
   ],
   "source": [
    "Dic={'name':'Rajesh','id':[101,102,104],'class':'B.Tech'}\n",
    "with open('aaa.txt') as db:\n",
    "    Dic['id'][1]=(22)**2\n",
    "    Dic['name']='rakesh'\n",
    "    for i in Dic.values():\n",
    "        print(i)"
   ]
  }
 ],
 "metadata": {
  "kernelspec": {
   "display_name": "Python 3 (ipykernel)",
   "language": "python",
   "name": "python3"
  },
  "language_info": {
   "codemirror_mode": {
    "name": "ipython",
    "version": 3
   },
   "file_extension": ".py",
   "mimetype": "text/x-python",
   "name": "python",
   "nbconvert_exporter": "python",
   "pygments_lexer": "ipython3",
   "version": "3.10.0"
  }
 },
 "nbformat": 4,
 "nbformat_minor": 5
}
