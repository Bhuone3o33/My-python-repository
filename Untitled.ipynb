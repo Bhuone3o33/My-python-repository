{
 "cells": [
  {
   "cell_type": "code",
   "execution_count": 42,
   "id": "3e8eb76f",
   "metadata": {},
   "outputs": [
    {
     "name": "stdout",
     "output_type": "stream",
     "text": [
      "3 3\n",
      "1 2 3\n",
      "4 5 6\n",
      "7 8 9\n",
      "1 2 3\n",
      "1 2 3\n",
      "1 2 3\n",
      "4 5 6\n",
      "4 5 6\n",
      "7 8 9\n"
     ]
    }
   ],
   "source": [
    "b"
   ]
  },
  {
   "cell_type": "code",
   "execution_count": 26,
   "id": "25ad4d7a",
   "metadata": {},
   "outputs": [
    {
     "name": "stdout",
     "output_type": "stream",
     "text": [
      " ab bdw2d2d23d2 c d e f g hed12ed21d23d i j kwefwqfewfwefqwefqwef l m n o p2d2d23d32d q r s t u v w x y ba\n",
      "\n"
     ]
    }
   ],
   "source": [
    "def minMaxLengthWords(inp):\n",
    "    length = len(inp)\n",
    "    si = ei = 0\n",
    "    min_length = length\n",
    "    min_start_index =  max_start_index = 0\n",
    "     \n",
    "    # loop to find the length and stating index\n",
    "    # of both longest and shortest words\n",
    "    while ei <= length:\n",
    "        if (ei < length) and (inp[ei] != \" \"):\n",
    "            ei += 1\n",
    "        else:\n",
    "            curr_length = ei - si\n",
    "             \n",
    "            # condition checking for the shortest word\n",
    "            if curr_length < min_length:\n",
    "                min_length = curr_length\n",
    "                min_start_index = si\n",
    "            ei += 1\n",
    "            si = ei\n",
    "             \n",
    "    # extracting the shortest word using\n",
    "    # it's starting index and length    \n",
    "    minWord = inp[min_start_index :\n",
    "                  min_start_index + min_length]\n",
    "     \n",
    "    # printing the final result\n",
    "    print(minWord)\n",
    "  \n",
    "     \n",
    "# Driver Code\n",
    " \n",
    "# Using this string to test our code\n",
    "a = input()\n",
    "minMaxLengthWords(a)\n",
    " \n"
   ]
  },
  {
   "cell_type": "code",
   "execution_count": 48,
   "id": "4c15e4f0",
   "metadata": {},
   "outputs": [
    {
     "name": "stdout",
     "output_type": "stream",
     "text": [
      "5\n",
      "13 17 5 4 6\n",
      "6 17 "
     ]
    }
   ],
   "source": [
    "def leaderprint(arr, n):\n",
    "\n",
    "    # last element of an array is leader by default\n",
    "    L = arr[n-1];\n",
    "    print(L,end=\" \")\n",
    "    \n",
    "    # for finding leaders in other elements of the array\n",
    "    for i in range(n-2, -1, -1):\n",
    "        if (arr[i] > L):\n",
    "            L = arr[i];\n",
    "            print(L,end=' ')\n",
    "n=int(input())\n",
    "arr = [int(x) for x in input().split()]\n",
    "# calling function\n",
    "leaderprint(arr, n)"
   ]
  }
 ],
 "metadata": {
  "kernelspec": {
   "display_name": "Python 3 (ipykernel)",
   "language": "python",
   "name": "python3"
  },
  "language_info": {
   "codemirror_mode": {
    "name": "ipython",
    "version": 3
   },
   "file_extension": ".py",
   "mimetype": "text/x-python",
   "name": "python",
   "nbconvert_exporter": "python",
   "pygments_lexer": "ipython3",
   "version": "3.10.0"
  }
 },
 "nbformat": 4,
 "nbformat_minor": 5
}
