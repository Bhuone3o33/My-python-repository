{
 "cells": [
  {
   "cell_type": "code",
   "execution_count": 4,
   "id": "5d1c5544",
   "metadata": {},
   "outputs": [
    {
     "name": "stdout",
     "output_type": "stream",
     "text": [
      "2\n",
      "1 2 3 4\n",
      "5 6 7 8\n",
      "your 2d list is [[1, 2, 3, 4], [5, 6, 7, 8]]\n"
     ]
    }
   ],
   "source": [
    "#creating 2D List\n",
    "n=int(input())\n",
    "two_Dimension_list=[[int(d) for d in input().split()] for i in range(n)]\n",
    "print(f'your 2d list is {two_Dimension_list}')\n"
   ]
  },
  {
   "cell_type": "code",
   "execution_count": 8,
   "id": "37f3fcd8",
   "metadata": {},
   "outputs": [
    {
     "name": "stdout",
     "output_type": "stream",
     "text": [
      "3 4 1 2 3 4 5 6 7 8 9 10 11 12\n",
      "[[1, 2, 3, 4], [5, 6, 7, 8], [9, 10, 11, 12]]\n"
     ]
    }
   ],
   "source": [
    "string=input().split()\n",
    "r,c=int(string[0]),int(string[1])\n",
    "b=string[2:]\n",
    "list=[[int(b[c*i+j])for j in range(c)]for i in range(r)]\n",
    "print(list)"
   ]
  },
  {
   "cell_type": "code",
   "execution_count": 9,
   "id": "bf511403",
   "metadata": {},
   "outputs": [
    {
     "name": "stdout",
     "output_type": "stream",
     "text": [
      "1 2 3 4\n",
      "5 6 7 8\n",
      "9 10 11 12\n"
     ]
    }
   ],
   "source": [
    "#executing the 2d list\n",
    "li=[[1, 2, 3, 4], [5, 6, 7, 8], [9, 10, 11, 12]]\n",
    "for i in li:\n",
    "    print(*i)\n"
   ]
  },
  {
   "cell_type": "code",
   "execution_count": 12,
   "id": "368b9bd4",
   "metadata": {},
   "outputs": [
    {
     "name": "stdout",
     "output_type": "stream",
     "text": [
      "1 2 3 4\n",
      "5 6 7 8\n",
      "9 10 11 12\n",
      "20 21 23 23\n",
      "890 456 567 3221\n",
      "87 67 43 23\n"
     ]
    }
   ],
   "source": [
    "li=[[1, 2, 3, 4], [5, 6, 7, 8], [9, 10, 11, 12],[20,21,23,23],[890,456,567,3221],[87,67,43,23]]\n",
    "\n",
    "for row in li:\n",
    "    output=\" \".join([str(cols)for cols in row])    #join function is used to add a element after each character\n",
    "    print(output)"
   ]
  },
  {
   "cell_type": "code",
   "execution_count": 4,
   "id": "242327d1",
   "metadata": {},
   "outputs": [
    {
     "name": "stdout",
     "output_type": "stream",
     "text": [
      "2\n",
      "2 5\n",
      "4 5 3 2 6 \n",
      "7 5 3 8 9\n",
      "20 32\n",
      "4 4\n",
      "1 2 3 4\n",
      "9 8 7 6\n",
      "3 4 5 6\n",
      "-1 1 -10 5\n",
      "10 30 18 -5\n"
     ]
    }
   ],
   "source": [
    "#row wise sum\n",
    "t=int(input())\n",
    "for i in range(t):\n",
    "    s=input().split()\n",
    "    a=[]\n",
    "    n,m=int(s[0]),int(s[1])\n",
    "    for f in range(n):\n",
    "        arr=[int(x) for x in input().split()]\n",
    "        a.append(sum(arr))\n",
    "    print(*a)"
   ]
  },
  {
   "cell_type": "code",
   "execution_count": 8,
   "id": "c1b99ff0",
   "metadata": {},
   "outputs": [
    {
     "name": "stdout",
     "output_type": "stream",
     "text": [
      "3\n"
     ]
    }
   ],
   "source": [
    "#largest column in 2d list\n",
    "def lar_inx(li):\n",
    "    r=len(li)\n",
    "    c=len(li[0])\n",
    "    lar_sum=0\n",
    "    lar_index=0\n",
    "    for col in range(c):\n",
    "        sum=0\n",
    "        for row in li:\n",
    "            sum+=row[col]\n",
    "        if sum>lar_sum:\n",
    "            lar_sum=sum\n",
    "            lar_index=col\n",
    "    return lar_index\n",
    "#main\n",
    "n=[[1,2,3,4],[50,40,30,20],[30,40,50,70]]\n",
    "lar_Index=lar_inx(n)\n",
    "print(lar_Index)"
   ]
  },
  {
   "cell_type": "code",
   "execution_count": 22,
   "id": "87f07243",
   "metadata": {},
   "outputs": [
    {
     "name": "stdout",
     "output_type": "stream",
     "text": [
      "2\n",
      "3 3\n",
      "3 6 9\n",
      "1 4 7\n",
      "2 8 9\n",
      "column 2 25\n",
      "4 2 \n",
      "1 2 \n",
      "90 100\n",
      "3 40\n",
      "-10 200\n",
      "column 1 342\n"
     ]
    }
   ],
   "source": [
    "#largest row \n",
    "def lar_inx(li):\n",
    "    r=len(li)\n",
    "    c=len(li[0])\n",
    "    lar_sum=0\n",
    "    lar_index=0\n",
    "    for col in range(c):\n",
    "        sum=0\n",
    "        for row in li:\n",
    "            sum+=row[col]\n",
    "        if sum>lar_sum:\n",
    "            lar_sum=sum\n",
    "            lar_index=col\n",
    "    return lar_sum,lar_index\n",
    "#largest row\n",
    "def lar_cinx(li):\n",
    "    lar_inc=0\n",
    "    lar_sum1=0\n",
    "    for row in range(len(li)):\n",
    "        sum1=0\n",
    "        for col in li[row]:\n",
    "            sum1+=col\n",
    "        if sum1>lar_sum1:\n",
    "            lar_sum1=sum1\n",
    "            lar_inr=row\n",
    "    return lar_sum1,lar_inr\n",
    "#main\n",
    "b=int(input())\n",
    "for i in range(b):\n",
    "    N,M=input().split()\n",
    "    if N!='0' and M!='0':\n",
    "        n=[[int(z) for z in input().split()]for x in range(int(N))]\n",
    "        row,row_index=lar_cinx(n)\n",
    "        column,column_index=lar_inx(n)\n",
    "        if row>column:\n",
    "            print('row ',row_index,' ',row)\n",
    "        elif row==column:\n",
    "            print(\"row 0 \",row)\n",
    "        else:\n",
    "            print('column ',column_index,' ',column)\n",
    "    else:\n",
    "         print(\"row 0 -2147483648\")"
   ]
  },
  {
   "cell_type": "code",
   "execution_count": 4,
   "id": "a767edc2",
   "metadata": {},
   "outputs": [
    {
     "name": "stdout",
     "output_type": "stream",
     "text": [
      "190\n"
     ]
    }
   ],
   "source": [
    "#largest row\n",
    "def lar_cinx(li):\n",
    "    lar_inc=0\n",
    "    lar_sum=0\n",
    "    for row in li:\n",
    "        sum1=0\n",
    "        for col in row:\n",
    "            sum1+=col\n",
    "        if sum1>lar_sum:\n",
    "            lar_sum=sum1\n",
    "            lar_inr=row\n",
    "    return lar_sum\n",
    "n=[[1,2,3,4],[50,40,30,20],[30,40,50,70]]\n",
    "r=lar_cinx(n)\n",
    "print(r)"
   ]
  },
  {
   "cell_type": "code",
   "execution_count": 18,
   "id": "710a6bcf",
   "metadata": {},
   "outputs": [
    {
     "name": "stdout",
     "output_type": "stream",
     "text": [
      "1 2 3 \n",
      "2 3\n",
      "2 3\n",
      "[[1, 2, 3], [2, 3], [2, 3]]\n"
     ]
    }
   ],
   "source": [
    "N,M=3,4\n",
    "n=[[int(i) for i in input().split()]for x in range(N)]\n",
    "print(n)"
   ]
  },
  {
   "cell_type": "code",
   "execution_count": 21,
   "id": "d41086d9",
   "metadata": {},
   "outputs": [
    {
     "name": "stdout",
     "output_type": "stream",
     "text": [
      "2\n",
      "5 3\n",
      "1 2 3\n",
      "4 5 6 \n",
      "7 8 9\n",
      "10 11 12 \n",
      "13 14 15\n",
      "1 4 7 10 13 14 11 8 5 2 3 6 9 12 15\n",
      "3 3\n",
      "10 20 30 \n",
      "40 50 60\n",
      "70 80 90\n",
      "10 40 70 80 50 20 30 60 90\n"
     ]
    }
   ],
   "source": [
    "# wave print\n",
    "def wave_print(li):\n",
    "        s=[]\n",
    "        for column in range(len(li[0])):\n",
    "            if column%2==0:\n",
    "                for row in range(len(li)):\n",
    "                    s.append(li[row][column])\n",
    "            else:\n",
    "                for rowo in range(len(li)-1,-1,-1):\n",
    "                    s.append(li[rowo][column])\n",
    "\n",
    "        return(s)   \n",
    "#_main_\n",
    "n=int(input())\n",
    "for i in range(n):\n",
    "    N=input().split()\n",
    "    if N[0]!='0':\n",
    "        li=[[int(x) for x in input().split()] for i in range(int(N[0]))]\n",
    "        print(*(wave_print(li)))"
   ]
  },
  {
   "cell_type": "code",
   "execution_count": 2,
   "id": "8a441c89",
   "metadata": {},
   "outputs": [
    {
     "name": "stdout",
     "output_type": "stream",
     "text": [
      "[-5, 29, 45, [88, 54]]\n"
     ]
    }
   ],
   "source": [
    "a=[-5,29,45,[67,54]]\n",
    "b=list(a)\n",
    "a[3][0]=88\n",
    "a[1]=34\n",
    "print(b)"
   ]
  },
  {
   "cell_type": "code",
   "execution_count": 3,
   "id": "be63372e",
   "metadata": {},
   "outputs": [
    {
     "name": "stdout",
     "output_type": "stream",
     "text": [
      "[[1, 4, 7], [2, 5, 8], [3, 6, 9]]\n"
     ]
    }
   ],
   "source": [
    "l=[[1 ,2, 3], [4, 5, 6], [7, 8, 9]]\n",
    "print([[row[i] for row in l] for i in range(3)])"
   ]
  },
  {
   "cell_type": "code",
   "execution_count": 4,
   "id": "7d7c52b9",
   "metadata": {},
   "outputs": [
    {
     "name": "stdout",
     "output_type": "stream",
     "text": [
      "[2, 5, 8]\n"
     ]
    }
   ],
   "source": [
    "A = [[1, 2, 3],\n",
    "    [4, 5, 6],\n",
    "    [7, 8, 9]]\n",
    "print([A[row][1] for row in (0, 1, 2)])"
   ]
  },
  {
   "cell_type": "code",
   "execution_count": 5,
   "id": "53eb641e",
   "metadata": {},
   "outputs": [
    {
     "name": "stdout",
     "output_type": "stream",
     "text": [
      "[[11, 12, 13], [14, 15, 16]]\n"
     ]
    }
   ],
   "source": [
    "l=[[1, 2, 3], [4, 5, 6]]\n",
    "for i in range(len(l)):\n",
    "  for j in range(len(l[i])):\n",
    "        l[i][j]+=10\n",
    "print(l)"
   ]
  },
  {
   "cell_type": "code",
   "execution_count": 6,
   "id": "32ee75d1",
   "metadata": {},
   "outputs": [
    {
     "name": "stdout",
     "output_type": "stream",
     "text": [
      "[[7], [7], [7]]\n"
     ]
    }
   ],
   "source": [
    "a=[[]]*3\n",
    "a[1].append(7)\n",
    "print(a)"
   ]
  },
  {
   "cell_type": "code",
   "execution_count": 7,
   "id": "262a07a2",
   "metadata": {},
   "outputs": [
    {
     "name": "stdout",
     "output_type": "stream",
     "text": [
      "[13, 56, 17, [87], 45, 67]\n"
     ]
    }
   ],
   "source": [
    "a=[13,56,17]\n",
    "a.append([87])\n",
    "a.extend([45,67])\n",
    "print(a)"
   ]
  }
 ],
 "metadata": {
  "kernelspec": {
   "display_name": "Python 3 (ipykernel)",
   "language": "python",
   "name": "python3"
  },
  "language_info": {
   "codemirror_mode": {
    "name": "ipython",
    "version": 3
   },
   "file_extension": ".py",
   "mimetype": "text/x-python",
   "name": "python",
   "nbconvert_exporter": "python",
   "pygments_lexer": "ipython3",
   "version": "3.10.0"
  }
 },
 "nbformat": 4,
 "nbformat_minor": 5
}
