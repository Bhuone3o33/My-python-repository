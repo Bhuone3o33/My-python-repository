{
 "cells": [
  {
   "cell_type": "code",
   "execution_count": null,
   "id": "08b5f7d9",
   "metadata": {},
   "outputs": [],
   "source": [
    "#binary search\n",
    "p=[]\n",
    "n=int(input())\n",
    "if n==0:\n",
    "    p.append(-1)\n",
    "else:\n",
    "    array=[int(x) for x in input().split()]\n",
    "    if len(array)==n:\n",
    "        hw=int(input())\n",
    "        for i in range(hw):\n",
    "            ele=int(input())\n",
    "            start=0\n",
    "            end=len(array)-1\n",
    "            while start<=end:\n",
    "                mid=(start+end)//2\n",
    "                if array[mid]==ele:\n",
    "                    p.append(mid)\n",
    "                    break\n",
    "                elif array[mid]>ele:\n",
    "                    end=mid-1\n",
    "                elif array[mid]<ele:\n",
    "                    start=mid+1\n",
    "            else:\n",
    "                p.append(-1)         \n",
    "for i in p:\n",
    "    print(i)\n"
   ]
  },
  {
   "cell_type": "code",
   "execution_count": 10,
   "id": "32c88522",
   "metadata": {},
   "outputs": [
    {
     "name": "stdout",
     "output_type": "stream",
     "text": [
      "1\n",
      "7\n",
      "2 13 4 1 3 6 28\n",
      "1 2 3 4 6 13 28 \n"
     ]
    }
   ],
   "source": [
    "#selection  sort\n",
    "n=int(input())\n",
    "for i in range(n):\n",
    "    N=int(input())\n",
    "    array=[int(x) for x in input().split()]\n",
    "    for i in range(len(array)):\n",
    "        min_index=i\n",
    "        for k in range(i+1,len(array)):\n",
    "            if array[k]<array[min_index]:\n",
    "                min_index=k\n",
    "        array[i],array[min_index]=array[min_index],array[i]\n",
    "    for z in array:\n",
    "        print(z,end=' ')\n",
    "    print()\n",
    "\n",
    "  \n",
    "    \n"
   ]
  },
  {
   "cell_type": "code",
   "execution_count": null,
   "id": "4ce5af79",
   "metadata": {},
   "outputs": [],
   "source": [
    "def bubblesort(list):\n",
    "    length=len(list)\n",
    "    for i in range(length-1):\n",
    "        for j in range(length-i-1):\n",
    "            if list[j]>list[j+1]:\n",
    "                list[j],list[j+1]=list[j+1],list[j]\n",
    "    for k in range(len(list)):\n",
    "        print(list[k],end=\" \")\n",
    "    print()\n",
    "    \n",
    "    \n",
    "loop=int(input())\n",
    "\n",
    "if n!=0:\n",
    "    for p in range(loop):\n",
    "        n=int(input())\n",
    "        list = [int(x) for x in input().split()]\n",
    "        bubblesort(list)"
   ]
  },
  {
   "cell_type": "code",
   "execution_count": 6,
   "id": "4ae6480e",
   "metadata": {
    "scrolled": true
   },
   "outputs": [
    {
     "name": "stdout",
     "output_type": "stream",
     "text": [
      "1\n",
      "7\n",
      "2 13 4 1 3 6 28\n",
      "1 2 3 4 6 13 28 "
     ]
    }
   ],
   "source": [
    "#Bubble sort\n",
    "n=int(input())\n",
    "for i in range(n):\n",
    "    b=int(input())\n",
    "    lst=[int(x) for x in input().split()]\n",
    "    for i in range(len(lst)):\n",
    "        for a in range(len(lst)-1):\n",
    "                if lst[a]>lst[a+1]:\n",
    "                    lst[a],lst[a+1]=lst[a+1],lst[a]\n",
    "    for i in lst:\n",
    "        print(i,end=' ')\n",
    "        "
   ]
  },
  {
   "cell_type": "code",
   "execution_count": 10,
   "id": "945b3ab8",
   "metadata": {},
   "outputs": [
    {
     "name": "stdout",
     "output_type": "stream",
     "text": [
      "2\n",
      "5\n",
      "9 3 6 2 0\n",
      "0 2 3 6 9 \n",
      "4\n",
      "4 3 2 1\n",
      "1 2 3 4 \n"
     ]
    }
   ],
   "source": [
    "# insrtion sort\n",
    "def insertion_sort(array):\n",
    "    length=len(array)\n",
    "    for i in range(1,length):\n",
    "        j=i-1\n",
    "        temp=array[i]\n",
    "        while (j>=0)and(array[j]>temp):\n",
    "            array[j+1]=array[j]\n",
    "            j=j-1\n",
    "        array[j+1]=temp\n",
    "        \n",
    "#main\n",
    "times=int(input())\n",
    "for i in range(times):\n",
    "    n=int(input())\n",
    "    lst=[int(x) for x in input().split()]\n",
    "    insertion_sort(lst)\n",
    "    for i in lst:\n",
    "        print(i,end=' ')\n",
    "    print()"
   ]
  },
  {
   "cell_type": "code",
   "execution_count": 31,
   "id": "07eccdb4",
   "metadata": {},
   "outputs": [
    {
     "name": "stdout",
     "output_type": "stream",
     "text": [
      "2\n",
      "3\n",
      "10 100 500\n",
      "7\n",
      "4 7 9 25 30 300 450\n",
      "4\n",
      "7 45 89 90\n",
      "0\n",
      "4 7 9 10 25 30 100 300 450 500 \n",
      "7 45 89 90 \n"
     ]
    }
   ],
   "source": [
    "#Merging arrays\n",
    "def mergarrays(arr1=' ',arr2=' '):\n",
    "    arr3=[]\n",
    "    len1=len(arr1)\n",
    "    len2=len(arr2)\n",
    "    i=j=0\n",
    "    while i<len1 and j<len2:\n",
    "        if   arr1[i]<arr2[j]:\n",
    "            arr3.append(arr1[i])\n",
    "            i+=1\n",
    "        elif arr1[i]>=arr2[j]:\n",
    "            arr3.append(arr2[j])\n",
    "            j+=1\n",
    "    while (i < len1):\n",
    "        arr3.append(arr1[i])\n",
    "        i += 1\n",
    "    while (j < len2):\n",
    "        arr3.append(arr2[j])\n",
    "        j += 1\n",
    "    return(arr3)\n",
    "\n",
    "   \n",
    "\n",
    "    \n",
    "n=int(input())\n",
    "rsl=[]\n",
    "for i in range(n):\n",
    "    N=int(input())\n",
    "    if N==0:\n",
    "        lst1=[ ]\n",
    "    else:\n",
    "        lst1=[int(x) for x in input().split()]\n",
    "    d=int(input())\n",
    "    if d==0:\n",
    "        lst2=[ ]\n",
    "    else:\n",
    "        lst2=[int(x)for x in input().split()]\n",
    "    rsl.append(mergarrays(lst1,lst2))\n",
    "for i in rsl:\n",
    "    for j in i:\n",
    "        print(j,end=' ')\n",
    "    print()\n",
    "    "
   ]
  },
  {
   "cell_type": "code",
   "execution_count": 62,
   "id": "4ddfe774",
   "metadata": {},
   "outputs": [
    {
     "name": "stdout",
     "output_type": "stream",
     "text": [
      "1\n",
      "2\n",
      "0 2 0 1 0 3 0 4 0\n"
     ]
    },
    {
     "ename": "TypeError",
     "evalue": "'builtin_function_or_method' object is not subscriptable",
     "output_type": "error",
     "traceback": [
      "\u001b[1;31m---------------------------------------------------------------------------\u001b[0m",
      "\u001b[1;31mTypeError\u001b[0m                                 Traceback (most recent call last)",
      "\u001b[1;32m~\\AppData\\Local\\Temp/ipykernel_12408/1299368523.py\u001b[0m in \u001b[0;36m<module>\u001b[1;34m\u001b[0m\n\u001b[0;32m     10\u001b[0m     \u001b[0mN\u001b[0m\u001b[1;33m=\u001b[0m\u001b[0mint\u001b[0m\u001b[1;33m(\u001b[0m\u001b[0minput\u001b[0m\u001b[1;33m(\u001b[0m\u001b[1;33m)\u001b[0m\u001b[1;33m)\u001b[0m\u001b[1;33m\u001b[0m\u001b[1;33m\u001b[0m\u001b[0m\n\u001b[0;32m     11\u001b[0m     \u001b[0mli\u001b[0m\u001b[1;33m=\u001b[0m\u001b[1;33m[\u001b[0m\u001b[0mint\u001b[0m\u001b[1;33m(\u001b[0m\u001b[0mx\u001b[0m\u001b[1;33m)\u001b[0m \u001b[1;32mfor\u001b[0m \u001b[0mx\u001b[0m \u001b[1;32min\u001b[0m \u001b[0minput\u001b[0m\u001b[1;33m(\u001b[0m\u001b[1;33m)\u001b[0m\u001b[1;33m.\u001b[0m\u001b[0msplit\u001b[0m\u001b[1;33m(\u001b[0m\u001b[1;33m)\u001b[0m\u001b[1;33m]\u001b[0m\u001b[1;33m\u001b[0m\u001b[1;33m\u001b[0m\u001b[0m\n\u001b[1;32m---> 12\u001b[1;33m     \u001b[0marr\u001b[0m\u001b[1;33m.\u001b[0m\u001b[0mappend\u001b[0m\u001b[1;33m(\u001b[0m\u001b[0mzero_pushing\u001b[0m\u001b[1;33m(\u001b[0m\u001b[0mli\u001b[0m\u001b[1;33m)\u001b[0m\u001b[1;33m)\u001b[0m\u001b[1;33m\u001b[0m\u001b[1;33m\u001b[0m\u001b[0m\n\u001b[0m\u001b[0;32m     13\u001b[0m \u001b[1;32mfor\u001b[0m \u001b[0mrsl\u001b[0m \u001b[1;32min\u001b[0m \u001b[0marr\u001b[0m\u001b[1;33m:\u001b[0m\u001b[1;33m\u001b[0m\u001b[1;33m\u001b[0m\u001b[0m\n\u001b[0;32m     14\u001b[0m     \u001b[1;32mfor\u001b[0m \u001b[0mres\u001b[0m \u001b[1;32min\u001b[0m \u001b[0mrsl\u001b[0m\u001b[1;33m:\u001b[0m\u001b[1;33m\u001b[0m\u001b[1;33m\u001b[0m\u001b[0m\n",
      "\u001b[1;32m~\\AppData\\Local\\Temp/ipykernel_12408/1299368523.py\u001b[0m in \u001b[0;36mzero_pushing\u001b[1;34m(li)\u001b[0m\n\u001b[0;32m      3\u001b[0m     \u001b[1;32mfor\u001b[0m \u001b[0mi\u001b[0m \u001b[1;32min\u001b[0m \u001b[0mrange\u001b[0m\u001b[1;33m(\u001b[0m\u001b[0mlen\u001b[0m\u001b[1;33m(\u001b[0m\u001b[0mli\u001b[0m\u001b[1;33m)\u001b[0m\u001b[1;33m)\u001b[0m\u001b[1;33m:\u001b[0m\u001b[1;33m\u001b[0m\u001b[1;33m\u001b[0m\u001b[0m\n\u001b[0;32m      4\u001b[0m         \u001b[1;32mif\u001b[0m \u001b[0mli\u001b[0m\u001b[1;33m[\u001b[0m\u001b[0mi\u001b[0m\u001b[1;33m]\u001b[0m\u001b[1;33m==\u001b[0m\u001b[1;36m0\u001b[0m\u001b[1;33m:\u001b[0m\u001b[1;33m\u001b[0m\u001b[1;33m\u001b[0m\u001b[0m\n\u001b[1;32m----> 5\u001b[1;33m             \u001b[0mli\u001b[0m\u001b[1;33m.\u001b[0m\u001b[0mappend\u001b[0m\u001b[1;33m(\u001b[0m\u001b[0mli\u001b[0m\u001b[1;33m.\u001b[0m\u001b[0mpop\u001b[0m\u001b[1;33m[\u001b[0m\u001b[0mi\u001b[0m\u001b[1;33m]\u001b[0m\u001b[1;33m)\u001b[0m\u001b[1;33m\u001b[0m\u001b[1;33m\u001b[0m\u001b[0m\n\u001b[0m\u001b[0;32m      6\u001b[0m     \u001b[1;32mreturn\u001b[0m \u001b[0mli\u001b[0m\u001b[1;33m\u001b[0m\u001b[1;33m\u001b[0m\u001b[0m\n\u001b[0;32m      7\u001b[0m \u001b[0mn\u001b[0m\u001b[1;33m=\u001b[0m\u001b[0mint\u001b[0m\u001b[1;33m(\u001b[0m\u001b[0minput\u001b[0m\u001b[1;33m(\u001b[0m\u001b[1;33m)\u001b[0m\u001b[1;33m)\u001b[0m\u001b[1;33m\u001b[0m\u001b[1;33m\u001b[0m\u001b[0m\n",
      "\u001b[1;31mTypeError\u001b[0m: 'builtin_function_or_method' object is not subscriptable"
     ]
    }
   ],
   "source": [
    "#pushing zero to end\n",
    "def zero_pushing(li):\n",
    "    for i in range(len(li)):\n",
    "        if li[i]==0:\n",
    "            li.append(li.pop[i])\n",
    "    return li\n",
    "n=int(input())\n",
    "arr=[]\n",
    "for i in range(n):\n",
    "    N=int(input())\n",
    "    li=[int(x) for x in input().split()]\n",
    "    arr.append(zero_pushing(li))\n",
    "for rsl in arr:\n",
    "    for res in rsl:\n",
    "        print(res,end=' ')\n",
    "    print()"
   ]
  },
  {
   "cell_type": "code",
   "execution_count": 23,
   "id": "c2db7f04",
   "metadata": {},
   "outputs": [
    {
     "name": "stdout",
     "output_type": "stream",
     "text": [
      "2\n",
      "3\n",
      "0 0 1\n",
      "3 \n",
      "0 0 9\n",
      "1 0 0 \n",
      "9 0 0 \n"
     ]
    }
   ],
   "source": [
    "loop=int(input())\n",
    "arr=[]\n",
    "for i in range(loop):\n",
    "    no_element=input()\n",
    "    n=input().split()\n",
    "    n.sort(key='0'.__eq__)\n",
    "    arr.append(list(n))\n",
    "for rsl in arr:\n",
    "    for res in rsl:\n",
    "        print(res,end=' ')\n",
    "    print()"
   ]
  },
  {
   "cell_type": "code",
   "execution_count": 1,
   "id": "8a8d6037",
   "metadata": {},
   "outputs": [
    {
     "name": "stdout",
     "output_type": "stream",
     "text": [
      "2\n",
      "3\n",
      "1 2 3 4 5 \n",
      "3\n",
      "4 5 1 2 3\n",
      "2\n",
      "1 2 3 4 5 6 7\n",
      "5\n",
      "6 7 1 2 3 4 5\n"
     ]
    }
   ],
   "source": [
    "## rotate array\n",
    "def rotate(li,num):\n",
    "    rsl=[]\n",
    "    for i in range(num):\n",
    "            li.append(li.pop(0))\n",
    "    rsl.append(li)\n",
    "n=int(input())\n",
    "for i in range(n):\n",
    "    n=int(input())\n",
    "    li=[int(x) for x in input().split()]\n",
    "    if n!=0:\n",
    "        num=int(input())\n",
    "        rotate(li,num)\n",
    "    print(*li)"
   ]
  },
  {
   "cell_type": "code",
   "execution_count": 77,
   "id": "2b321d57",
   "metadata": {},
   "outputs": [
    {
     "name": "stdout",
     "output_type": "stream",
     "text": [
      "2\n",
      "2\n",
      "1 2 3 4 5 6 7\n",
      "2\n",
      "2\n",
      "1 2 3 45 5 6 \n",
      "3\n",
      "3 4 5 6 7 1 2\n",
      "45 5 6 1 2 3\n"
     ]
    }
   ],
   "source": [
    "loop=int(input())\n",
    "rsl=[]\n",
    "for i in range(loop):\n",
    "    no_of_ele=int(input())\n",
    "    if no_of_ele !=0:\n",
    "        n=[int(x) for x in input().split()]\n",
    "    no_rotate=int(input())\n",
    "    for p in range(no_rotate):\n",
    "        n.append(n[0])\n",
    "        n.pop(0)\n",
    "    rsl.append(n)\n",
    "for r in rsl:\n",
    "    print(*r, sep = \" \" )"
   ]
  },
  {
   "cell_type": "code",
   "execution_count": null,
   "id": "0df6be61",
   "metadata": {},
   "outputs": [],
   "source": [
    "#rotate array\n",
    "loop=int(input())\n",
    "n=[]\n",
    "n1=[]\n",
    "for i in range(loop):\n",
    "    no_of_ele=int(input())\n",
    "    if no_of_ele !=0:\n",
    "        n=[int(x) for x in input().split()]\n",
    "    no_rotate=int(input())\n",
    "    if no_of_ele!=no_rotate:\n",
    "        n1=n[no_rotate:]\n",
    "        n1.extend(n[0:no_rotate])       \n",
    "    print(*n1)"
   ]
  },
  {
   "cell_type": "code",
   "execution_count": 18,
   "id": "bb5755d0",
   "metadata": {},
   "outputs": [
    {
     "name": "stdout",
     "output_type": "stream",
     "text": [
      "1\n",
      "7\n",
      "2 13 4 1 3 6 28\n",
      "13\n"
     ]
    }
   ],
   "source": [
    "#second largest in array\n",
    "n=int(input())\n",
    "j=[]\n",
    "for i in range(n):\n",
    "    N=int(input())\n",
    "    if N!=0:\n",
    "        li=[int(x) for x in input().split()]\n",
    "        for i in range(len(li)):\n",
    "            if li[i]<max(li):\n",
    "                j.append(li[i])\n",
    "        if len(j)==0:\n",
    "            print(-2147483648)\n",
    "        else:\n",
    "            print(max(j))\n",
    "    else:\n",
    "        print(-2147483648)"
   ]
  },
  {
   "cell_type": "code",
   "execution_count": null,
   "id": "58649379",
   "metadata": {},
   "outputs": [],
   "source": [
    "n=int(input())\n",
    "for i in range(n):\n",
    "    b=int(input())\n",
    "    if b!=0:\n",
    "        lost=[int(x) for x in input().split()]\n",
    "        length=len(lost)\n",
    "        dup=lost.count(max(lost))\n",
    "    if b<=1:\n",
    "        print(-2147483648)\n",
    "    elif length==dup:\n",
    "        print(-2147483648)\n",
    "    else:\n",
    "        maxon=max(lost)\n",
    "        maxc=lost.count(maxon)\n",
    "        for i in range(maxc):\n",
    "            lost.remove(maxon)\n",
    "            lost.sort()\n",
    "        print(lost[-1])\n",
    "        "
   ]
  },
  {
   "cell_type": "code",
   "execution_count": 4,
   "id": "952e4e7b",
   "metadata": {},
   "outputs": [
    {
     "name": "stdout",
     "output_type": "stream",
     "text": [
      "2\n",
      "5\n",
      "3 6 8 9 10\n",
      "0\n",
      "4\n",
      "10 20 30 1\n",
      "3\n"
     ]
    }
   ],
   "source": [
    "#check array rotation\n",
    "n=int(input())\n",
    "for i in range(n):\n",
    "    n=int(input())\n",
    "    if n!=0:\n",
    "        \n",
    "        li=[int(x) for x in input().split()]\n",
    "    else:\n",
    "        print(0)\n",
    "        break\n",
    "    li2=li.copy()\n",
    "    li2.sort()\n",
    "    frst=li2[0]\n",
    "    print(li.index(frst))"
   ]
  },
  {
   "cell_type": "code",
   "execution_count": 16,
   "id": "675a162a",
   "metadata": {},
   "outputs": [
    {
     "name": "stdout",
     "output_type": "stream",
     "text": [
      "2\n",
      "5\n",
      "2 2 0 1 1\n",
      "0 1 1 2 2\n",
      "2\n",
      "0 1 2 2 1 1 0 0 0\n",
      "0 0 0 0 1 1 1 2 2\n"
     ]
    }
   ],
   "source": [
    "# Sorted 0 1 2 \n",
    "n=int(input())\n",
    "for i in range(n):\n",
    "    li1=[]\n",
    "    li2=[]\n",
    "    li3=[]\n",
    "    N=int(input())\n",
    "    if N!=0:\n",
    "        li=[int(x) for x in input().split()]\n",
    "        for i in range(len(li)):\n",
    "            if li[i]==0:\n",
    "                li1.append(li[i])\n",
    "            elif li[i]==1:\n",
    "                li2.append(li[i])\n",
    "            elif li[i]==2:\n",
    "                li3.append(li[i])\n",
    "        print(*(li1+li2+li3))"
   ]
  },
  {
   "cell_type": "code",
   "execution_count": 15,
   "id": "c00c9aab",
   "metadata": {},
   "outputs": [
    {
     "name": "stdout",
     "output_type": "stream",
     "text": [
      "2\n",
      "5\n",
      "2 2 0 1 1\n",
      "0 1 1 2 2\n",
      "7\n",
      "0 1 2 0 1 2 0\n",
      "0 0 0 1 1 2 2\n"
     ]
    }
   ],
   "source": [
    "n=int(input())\n",
    "for i in range(n):\n",
    "    N=int(input())\n",
    "    if N!=0:\n",
    "        li=[int(x) for x in input().split()]\n",
    "        li.sort()\n",
    "        print(*li)"
   ]
  },
  {
   "cell_type": "code",
   "execution_count": 28,
   "id": "392a2023",
   "metadata": {},
   "outputs": [
    {
     "data": {
      "text/plain": [
       "14"
      ]
     },
     "execution_count": 28,
     "metadata": {},
     "output_type": "execute_result"
    }
   ],
   "source": [
    "n=int(input())\n",
    "for i in range(n):\n",
    "    N=int(input())\n",
    "    if N!=0:\n",
    "        li=[int(x) for x in input().split()]\n",
    "    d=int(input())\n",
    "    if d!=0:\n",
    "        li2=[int(z) for z in input().split()]\n",
    "    "
   ]
  },
  {
   "cell_type": "code",
   "execution_count": 62,
   "id": "1b081f17",
   "metadata": {},
   "outputs": [
    {
     "name": "stdout",
     "output_type": "stream",
     "text": [
      "1\n",
      "3\n",
      "6 2 4\n",
      "3\n",
      "7 5 6\n",
      "1 3 8 0\n",
      "\n"
     ]
    }
   ],
   "source": [
    "#sum of two arrays\n",
    "def sumArray(arr1,n,arr2,m,output):\n",
    "    i=n-1\n",
    "    j=m-1\n",
    "    carry=0\n",
    "    l=max(n,m)+1\n",
    "    while i>=0 and j>=0:\n",
    "        num=arr1[i]+arr2[j]+carry\n",
    "        s=num%10\n",
    "        carry=num//10\n",
    "        output[l-1]=s\n",
    "        l=l-1\n",
    "        i=i-1\n",
    "        j=j-1\n",
    "    while i>=0:\n",
    "        num=arr1[i]+carry\n",
    "        s=num%10\n",
    "        carry=num//10\n",
    "        output[l-1]=s\n",
    "        l=l-1\n",
    "        i=i-1\n",
    "    while j>=0:\n",
    "        num=arr2[j]+carry\n",
    "        s=num%10\n",
    "        carry=num//10\n",
    "        output[l-1]=s\n",
    "        l=l-1\n",
    "        j=j-1\n",
    "    if carry!=0:\n",
    "        output[0]=carry\n",
    "        \n",
    "    \n",
    "    \n",
    "t=int(input())\n",
    "for i in range(t):\n",
    "    n=int(input())\n",
    "    if n==0:\n",
    "        print(0)\n",
    "        break\n",
    "    arr1=[int(x) for x in input().split()]\n",
    "    m=int(input())\n",
    "    arr2=[int(x) for x in input().split()]\n",
    "    size=max(n,m)+1\n",
    "    output=[0 for i in range(size)]\n",
    "    sumArray(arr1,n,arr2,m,output)\n",
    "    print(*output)\n",
    "    print()"
   ]
  }
 ],
 "metadata": {
  "kernelspec": {
   "display_name": "Python 3 (ipykernel)",
   "language": "python",
   "name": "python3"
  },
  "language_info": {
   "codemirror_mode": {
    "name": "ipython",
    "version": 3
   },
   "file_extension": ".py",
   "mimetype": "text/x-python",
   "name": "python",
   "nbconvert_exporter": "python",
   "pygments_lexer": "ipython3",
   "version": "3.10.0"
  }
 },
 "nbformat": 4,
 "nbformat_minor": 5
}
