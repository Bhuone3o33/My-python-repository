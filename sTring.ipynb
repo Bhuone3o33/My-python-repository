{
 "cells": [
  {
   "cell_type": "code",
   "execution_count": 1,
   "id": "45bd8f3a",
   "metadata": {},
   "outputs": [
    {
     "name": "stdout",
     "output_type": "stream",
     "text": [
      "coding\n",
      "false\n"
     ]
    }
   ],
   "source": [
    "n=input()\n",
    "if n==n[::-1]:\n",
    "    print('true')\n",
    "else:\n",
    "    print('false')"
   ]
  },
  {
   "cell_type": "code",
   "execution_count": 7,
   "id": "d26d9ed5",
   "metadata": {},
   "outputs": [
    {
     "name": "stdout",
     "output_type": "stream",
     "text": [
      "abcdcba\n",
      "true\n"
     ]
    }
   ],
   "source": [
    "from sys import stdin\n",
    "\n",
    "\n",
    "def isPalindrome(string) :\n",
    "    if string==string[::-1]:\n",
    "        return True\n",
    "    else:\n",
    "        return 0\n",
    "\t# Your code goes here\n",
    "\n",
    "\n",
    "\n",
    "\n",
    "\n",
    "\n",
    "\n",
    "\n",
    "\n",
    "\n",
    "\n",
    "\n",
    "\n",
    "\n",
    "\n",
    "\n",
    "\n",
    "\n",
    "\n",
    "\n",
    "\n",
    "\n",
    "\n",
    "\t\n",
    "\n",
    "\n",
    "#main\n",
    "string = input()\n",
    "ans = isPalindrome(string)\n",
    "\n",
    "if ans :\n",
    "    print('true')\n",
    "else :\n",
    "    print('false')\n",
    "\n"
   ]
  },
  {
   "cell_type": "code",
   "execution_count": 40,
   "id": "f8ff82f1",
   "metadata": {},
   "outputs": [
    {
     "name": "stdout",
     "output_type": "stream",
     "text": [
      "   h\n",
      "h\n",
      "false\n"
     ]
    }
   ],
   "source": [
    "#check permutation\n",
    "str1=input().rstrip()\n",
    "str2=input().rstrip()\n",
    "a=sorted(str1)\n",
    "b=sorted(str2)\n",
    "for i in range(len(str1)):\n",
    "    if (a[i]!=b[i]):\n",
    "        print('false')\n",
    "        break\n",
    "else:\n",
    "    print('true')"
   ]
  },
  {
   "cell_type": "code",
   "execution_count": 65,
   "id": "680448c7",
   "metadata": {},
   "outputs": [
    {
     "name": "stdout",
     "output_type": "stream",
     "text": [
      "xxxxxxxxxxuuuuuuuuherkjdsfkjfdkfdskjhdfskjhfk\n",
      "xuherkjdsfkjfdkfdskjhdfskjhfk"
     ]
    }
   ],
   "source": [
    "#remove consecutive duplicates\n",
    "n=input()\n",
    "n=n+' '\n",
    "for i in range(len(n)-1):\n",
    "    if n[i]!=n[i+1]:\n",
    "        print(n[i],end='')"
   ]
  },
  {
   "cell_type": "code",
   "execution_count": 12,
   "id": "f7679a8c",
   "metadata": {},
   "outputs": [
    {
     "name": "stdout",
     "output_type": "stream",
     "text": [
      "bhuvan\n",
      "navuhb "
     ]
    }
   ],
   "source": [
    "#reversed each word\n",
    "n=input().rstrip()\n",
    "li=n.split()\n",
    "for i in range(len(li)):\n",
    "    print(li[i][::-1],end=' ')"
   ]
  },
  {
   "cell_type": "code",
   "execution_count": 29,
   "id": "24a7b607",
   "metadata": {},
   "outputs": [
    {
     "name": "stdout",
     "output_type": "stream",
     "text": [
      "cxoxdxixnxgxnxixnxjxaxsx\n",
      "x\n",
      "codingninjas\n"
     ]
    }
   ],
   "source": [
    "#Remove character\n",
    "string=input().rstrip()\n",
    "rm=input()\n",
    "s=''\n",
    "for i in string:\n",
    "    if i==rm:\n",
    "        s=string.replace(i,\"\")\n",
    "if s!='':\n",
    "    print(s)\n",
    "elif string[0]==rm:\n",
    "    print(\" \")\n",
    "else:\n",
    "    print(string)"
   ]
  },
  {
   "cell_type": "code",
   "execution_count": 6,
   "id": "3cc8fbf9",
   "metadata": {},
   "outputs": [
    {
     "name": "stdout",
     "output_type": "stream",
     "text": [
      "abc\n",
      "a\n"
     ]
    }
   ],
   "source": [
    "#Highest occuring character\n",
    "string=input()\n",
    "maxno=0\n",
    "maxalpha=''\n",
    "new_li=[]\n",
    "\n",
    "for i in string:\n",
    "    if i not in new_li:\n",
    "        new_li.append(i)\n",
    "\n",
    "for val in new_li:\n",
    "    count=0\n",
    "    for els in range(len(string)):\n",
    "        if val==string[els]:\n",
    "            count+=1\n",
    "        if count>maxno:\n",
    "            maxno=count\n",
    "            maxalpha=val\n",
    "print(maxalpha)"
   ]
  },
  {
   "cell_type": "code",
   "execution_count": 5,
   "id": "0ede5b44",
   "metadata": {},
   "outputs": [
    {
     "name": "stdout",
     "output_type": "stream",
     "text": [
      "xy\n",
      "x\n"
     ]
    }
   ],
   "source": [
    "#highest occuring charachter\n",
    "string=input()\n",
    "maxno=0\n",
    "maxaplha=''\n",
    "for i in string:\n",
    "    count=0\n",
    "    for j in string:\n",
    "        if i==j:\n",
    "            count+=1\n",
    "        if count>maxno:\n",
    "            maxno=count\n",
    "            maxalpha=i\n",
    "print(maxalpha)"
   ]
  },
  {
   "cell_type": "code",
   "execution_count": 13,
   "id": "b699d0c6",
   "metadata": {},
   "outputs": [
    {
     "name": "stdout",
     "output_type": "stream",
     "text": [
      "aaabbbfffhhjjjgggkfllf\n",
      "a3b3f3h2j3g3kfl2f\n"
     ]
    }
   ],
   "source": [
    "#compressed a string\n",
    "def ab(a):\n",
    "    i=0\n",
    "    x=''\n",
    "    while(i<len(a)):\n",
    "        j=i+1\n",
    "        c=1\n",
    "        while j<len(a) and (a[i]==a[j]):\n",
    "            j+=1\n",
    "            c+=1\n",
    "        if c==1:\n",
    "            x+=a[i]\n",
    "        else:\n",
    "            x+=a[i]+str(c)\n",
    "        i=j\n",
    "    return x\n",
    "a=input()\n",
    "print(ab(a))"
   ]
  }
 ],
 "metadata": {
  "kernelspec": {
   "display_name": "Python 3 (ipykernel)",
   "language": "python",
   "name": "python3"
  },
  "language_info": {
   "codemirror_mode": {
    "name": "ipython",
    "version": 3
   },
   "file_extension": ".py",
   "mimetype": "text/x-python",
   "name": "python",
   "nbconvert_exporter": "python",
   "pygments_lexer": "ipython3",
   "version": "3.10.0"
  }
 },
 "nbformat": 4,
 "nbformat_minor": 5
}
